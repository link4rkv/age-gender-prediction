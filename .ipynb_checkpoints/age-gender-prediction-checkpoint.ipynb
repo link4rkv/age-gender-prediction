{
 "cells": [
  {
   "cell_type": "code",
   "execution_count": 1,
   "metadata": {
    "_cell_guid": "b1076dfc-b9ad-4769-8c92-a6c4dae69d19",
    "_uuid": "8f2839f25d086af736a60e9eeb907d3b93b6e0e5"
   },
   "outputs": [
    {
     "name": "stdout",
     "output_type": "stream",
     "text": [
      "23708\n"
     ]
    }
   ],
   "source": [
    "import numpy as np # linear algebra\n",
    "import pandas as pd # data processing, CSV file I/O (e.g. pd.read_csv)\n",
    "\n",
    "import os, warnings\n",
    "\n",
    "# Load training and validation sets\n",
    "# ds_train_ = image_dataset_from_directory(\n",
    "#     '../input/utkface-new',\n",
    "#     validation_split=0.8,\n",
    "#     subset=\"training\",\n",
    "#     seed=1337,\n",
    "#     labels='inferred',\n",
    "#     image_size=[128, 128],\n",
    "#     interpolation='nearest',\n",
    "#     batch_size=64,\n",
    "#     shuffle=True,\n",
    "# )\n",
    "\n",
    "# print(ds_train_)\n",
    "# ds_valid_ = image_dataset_from_directory(\n",
    "#     '../input/utkface-new',\n",
    "#     validation_split=0.2,\n",
    "#     subset=\"validation\",\n",
    "#     seed=1337,\n",
    "#     labels='inferred',\n",
    "#     image_size=[128, 128],\n",
    "#     interpolation='nearest',\n",
    "#     batch_size=64,\n",
    "#     shuffle=False\n",
    "# )\n",
    "\n",
    "fldr=\"../input/utkface-new/UTKFace\"\n",
    "\n",
    "files=os.listdir(fldr)\n",
    "#print(files)\n",
    "\n",
    "import cv2 as cv\n",
    "ages=[]\n",
    "genders=[]\n",
    "images=[]\n",
    "print(len(files))\n",
    "i = 0\n",
    "for file in files:\n",
    "  age=int(file.split('_')[0])\n",
    "  ages.append(age)\n",
    "  gender=int(file.split('_')[1])\n",
    "  genders.append(gender)\n",
    "  total=fldr+'/'+file\n",
    "  #print(total)\n",
    "\n",
    "  image=cv.imread(total)\n",
    "\n",
    "  image = cv.cvtColor(image, cv.COLOR_BGR2RGB)\n",
    "  image= cv.resize(image,(128,128))\n",
    "#   print(image)\n",
    "  images.append(image)\n",
    "  i += 1\n",
    "  if i == 10000:\n",
    "      break\n",
    "    \n",
    "\n"
   ]
  },
  {
   "cell_type": "code",
   "execution_count": 2,
   "metadata": {},
   "outputs": [
    {
     "name": "stdout",
     "output_type": "stream",
     "text": [
      "[5175 4825]\n"
     ]
    },
    {
     "data": {
      "image/png": "[encoded data removed]",
      "text/plain": [
       "<Figure size 432x288 with 1 Axes>"
      ]
     },
     "metadata": {
      "needs_background": "light"
     },
     "output_type": "display_data"
    }
   ],
   "source": [
    "images_f=np.array(images)\n",
    "genders_f=np.array(genders)\n",
    "ages_f=np.array(ages)\n",
    "\n",
    "values, counts = np.unique(genders_f, return_counts=True)\n",
    "print(counts)\n",
    "\n",
    "import matplotlib.pyplot as plt\n",
    "fig = plt.figure()\n",
    "ax = fig.add_axes([0,0,1,1])\n",
    "gender = ['Male', 'Female']\n",
    "values=[24782, 22634]\n",
    "ax.bar(gender,values)\n",
    "plt.show()"
   ]
  },
  {
   "cell_type": "code",
   "execution_count": 3,
   "metadata": {},
   "outputs": [
    {
     "name": "stdout",
     "output_type": "stream",
     "text": [
      "[  1   2   3   4   5   6   7   8   9  10  11  12  13  14  15  16  17  18\n",
      "  19  20  21  22  23  24  25  26  27  28  29  30  31  32  33  34  35  36\n",
      "  37  38  39  40  41  42  43  44  45  46  47  48  49  50  51  52  53  54\n",
      "  55  56  57  58  59  60  61  62  63  64  65  66  67  68  69  70  71  72\n",
      "  73  74  75  76  77  78  79  80  81  82  83  84  85  86  87  88  89  90\n",
      "  92  93  95  96  99 100 101 103 105 110 111 115 116]\n",
      "[467 200 115 119  68  58  55 105  69  70  24  56  36  63  81 103  67 115\n",
      "  51 116 141 162 190 368 326 895 277 373 262 306 151 286  56 172 360 208\n",
      " 123 126 107 213  60 116  62  40 199  59  65  67  55 163  55 101  90 150\n",
      " 105 120  39 127  41 119  64  62  51  24 108  29  35  34  22  60  15  49\n",
      "  25  16  58  25  15  36  13  49   9  16  14   9  64  15   3  18  16  36\n",
      "   8   1   6   5   3   3   1   1   2   2   1   2   2]\n"
     ]
    },
    {
     "data": {
      "image/png": "[encoded data removed]",
      "text/plain": [
       "<Figure size 432x288 with 1 Axes>"
      ]
     },
     "metadata": {
      "needs_background": "light"
     },
     "output_type": "display_data"
    }
   ],
   "source": [
    "values, counts = np.unique(ages_f, return_counts=True)\n",
    "print(values)\n",
    "print(counts)\n",
    "\n",
    "val=values.tolist()\n",
    "cnt=counts.tolist()\n",
    "\n",
    "plt.plot(counts)\n",
    "plt.xlabel('ages')\n",
    "plt.ylabel('distribution')\n",
    "plt.show()"
   ]
  },
  {
   "cell_type": "code",
   "execution_count": 4,
   "metadata": {},
   "outputs": [],
   "source": [
    "labels=[]\n",
    "\n",
    "i=0\n",
    "while i<len(ages):\n",
    "  label=[]\n",
    "  label.append([ages[i]])\n",
    "  label.append([genders[i]])\n",
    "  labels.append(label)\n",
    "  i+=1"
   ]
  },
  {
   "cell_type": "code",
   "execution_count": 5,
   "metadata": {},
   "outputs": [],
   "source": [
    "# Data Pipeline\n",
    "# def convert_to_float(image, label):\n",
    "#     image = tf.image.convert_image_dtype(image, dtype=tf.float32)\n",
    "#     return image, label\n",
    "\n",
    "# AUTOTUNE = tf.data.experimental.AUTOTUNE\n",
    "# ds_train = (\n",
    "#     ds_train_\n",
    "#     .map(convert_to_float)\n",
    "#     .cache()\n",
    "#     .prefetch(buffer_size=AUTOTUNE)\n",
    "# )\n",
    "# ds_valid = (\n",
    "#     ds_valid_\n",
    "#     .map(convert_to_float)\n",
    "#     .cache()\n",
    "#     .prefetch(buffer_size=AUTOTUNE)\n",
    "# )\n",
    "\n",
    "#print(ds_train)"
   ]
  },
  {
   "cell_type": "code",
   "execution_count": 6,
   "metadata": {},
   "outputs": [
    {
     "name": "stdout",
     "output_type": "stream",
     "text": [
      "(10000, 128, 128, 3)\n",
      "(10000, 2, 1)\n",
      "[[26]\n",
      " [ 0]]\n"
     ]
    }
   ],
   "source": [
    "images_f_2 = images_f/255\n",
    "\n",
    "labels_f=np.array(labels)\n",
    "\n",
    "images_f_2.shape\n",
    "\n",
    "print(images_f_2.shape)\n",
    "print(labels_f.shape)\n",
    "print(labels_f[0])"
   ]
  },
  {
   "cell_type": "code",
   "execution_count": 7,
   "metadata": {},
   "outputs": [
    {
     "name": "stdout",
     "output_type": "stream",
     "text": [
      "[[[0.34509804 0.2745098  0.19607843]\n",
      "  [0.34901961 0.27843137 0.2       ]\n",
      "  [0.37647059 0.30588235 0.22745098]\n",
      "  ...\n",
      "  [0.27058824 0.31764706 0.19215686]\n",
      "  [0.20784314 0.26666667 0.1372549 ]\n",
      "  [0.14901961 0.20784314 0.07843137]]\n",
      "\n",
      " [[0.33333333 0.26666667 0.18431373]\n",
      "  [0.34509804 0.27843137 0.19607843]\n",
      "  [0.37647059 0.30588235 0.22745098]\n",
      "  ...\n",
      "  [0.25882353 0.30980392 0.18039216]\n",
      "  [0.15294118 0.21176471 0.08235294]\n",
      "  [0.09019608 0.16470588 0.02745098]]\n",
      "\n",
      " [[0.33333333 0.2627451  0.18431373]\n",
      "  [0.36078431 0.29019608 0.21176471]\n",
      "  [0.38039216 0.31372549 0.23529412]\n",
      "  ...\n",
      "  [0.19215686 0.25490196 0.12941176]\n",
      "  [0.08235294 0.15686275 0.02745098]\n",
      "  [0.05882353 0.14509804 0.01176471]]\n",
      "\n",
      " ...\n",
      "\n",
      " [[0.39607843 0.4        0.31764706]\n",
      "  [0.31764706 0.31764706 0.23529412]\n",
      "  [0.26666667 0.27058824 0.18823529]\n",
      "  ...\n",
      "  [0.34117647 0.2627451  0.21176471]\n",
      "  [0.3254902  0.25098039 0.19607843]\n",
      "  [0.2627451  0.18823529 0.13333333]]\n",
      "\n",
      " [[0.45882353 0.45098039 0.36862745]\n",
      "  [0.43137255 0.42352941 0.34117647]\n",
      "  [0.41568627 0.40784314 0.32941176]\n",
      "  ...\n",
      "  [0.27843137 0.20392157 0.14901961]\n",
      "  [0.33333333 0.25882353 0.20392157]\n",
      "  [0.3372549  0.26666667 0.21176471]]\n",
      "\n",
      " [[0.49019608 0.47058824 0.39215686]\n",
      "  [0.48235294 0.4627451  0.38431373]\n",
      "  [0.4745098  0.45490196 0.37647059]\n",
      "  ...\n",
      "  [0.21960784 0.14901961 0.09411765]\n",
      "  [0.25882353 0.18431373 0.13333333]\n",
      "  [0.3254902  0.25098039 0.2       ]]]\n",
      "(2500, 128, 128, 3)\n",
      "[array([[0],\n",
      "       [0],\n",
      "       [1],\n",
      "       ...,\n",
      "       [0],\n",
      "       [1],\n",
      "       [0]]), array([[ 4],\n",
      "       [50],\n",
      "       [34],\n",
      "       ...,\n",
      "       [27],\n",
      "       [25],\n",
      "       [24]])]\n"
     ]
    }
   ],
   "source": [
    "from sklearn.model_selection import train_test_split\n",
    "\n",
    "X_train, X_test, Y_train, Y_test= train_test_split(images_f_2, labels_f,test_size=0.25)\n",
    "\n",
    "Y_train[0:5]\n",
    "\n",
    "Y_train_2=[Y_train[:,1],Y_train[:,0]]\n",
    "Y_test_2=[Y_test[:,1],Y_test[:,0]]\n",
    "\n",
    "Y_train_2[0][0:5]\n",
    "Y_train_2[1][0:5]\n",
    "\n",
    "print(X_train[0])\n",
    "print(X_test.shape)\n",
    "print(Y_train_2)\n",
    "#print(Y_test_2[0])"
   ]
  },
  {
   "cell_type": "code",
   "execution_count": null,
   "metadata": {},
   "outputs": [],
   "source": [
    "import tensorflow as tf\n",
    "from tensorflow.keras.layers import Dropout\n",
    "from tensorflow.keras.layers import Flatten,BatchNormalization\n",
    "from tensorflow.keras.layers import Dense, MaxPooling2D,Conv2D\n",
    "from tensorflow.keras.layers import Input,Activation,Add\n",
    "from tensorflow.keras.models import Model\n",
    "from tensorflow.keras.regularizers import l2\n",
    "from tensorflow.keras.optimizers import Adam\n",
    "from tensorflow.keras.preprocessing import image_dataset_from_directory\n",
    "from tensorflow import keras\n",
    "from tensorflow.keras import layers\n",
    "\n",
    "initial_model = keras.Sequential([\n",
    "    keras.Input(shape = (128, 128, 3)),\n",
    "    # First Convolutional Block\n",
    "    layers.Conv2D(filters=32, kernel_size=5, activation=\"relu\", padding='same',\n",
    "                  # give the input dimensions in the first layer\n",
    "                  # [height, width, color channels(RGB)],\n",
    "                  input_shape = [375, 128, 128, 3]\n",
    "    ),\n",
    "    layers.MaxPool2D(),\n",
    "\n",
    "    # Second Convolutional Block\n",
    "    layers.Conv2D(filters=64, kernel_size=3, activation=\"relu\", padding='same'),\n",
    "    layers.MaxPool2D(),\n",
    "\n",
    "    # Third Convolutional Block\n",
    "    layers.Conv2D(filters=128, kernel_size=3, activation=\"relu\", padding='same'),\n",
    "    layers.MaxPool2D(),\n",
    "\n",
    "    # Classifier Head\n",
    "    layers.Flatten(),\n",
    "    layers.Dense(6, activation = 'relu'),\n",
    "#     layers.Dense(64, activation = 'relu'),\n",
    "    \n",
    "    layers.Dense(units=1, activation=\"sigmoid\", name = 'sex'),\n",
    "#     layers.Dense(units=1, activation=\"relu\", name = 'age'),\n",
    "    \n",
    "    # from github\n",
    "#     layers.Conv2D(filters=32,kernel_size=(3, 3),padding = 'same',strides=(1, 1),kernel_regularizer=l2(0.001), input_shape = [128, 128, 3])\n",
    "#     Dropout(0.1)\n",
    "#     layers.MaxPool2D(),\n",
    "    \n",
    "#     conv_1= Convolution(inputs,32)\n",
    "#     maxp_1 = MaxPooling2D(pool_size = (2,2)) (conv_1)\n",
    "#     conv_2 = Convolution(maxp_1,64)\n",
    "#     maxp_2 = MaxPooling2D(pool_size = (2, 2)) (conv_2)\n",
    "#     conv_3 = Convolution(maxp_2,128)\n",
    "#     maxp_3 = MaxPooling2D(pool_size = (2, 2)) (conv_3)\n",
    "#     conv_4 = Convolution(maxp_3,256)\n",
    "#     maxp_4 = MaxPooling2D(pool_size = (2, 2)) (conv_4)\n",
    "#     flatten= Flatten() (maxp_4)\n",
    "#     dense_1= Dense(64,activation='relu')(flatten)\n",
    "#     dense_2= Dense(64,activation='relu')(flatten)\n",
    "#     drop_1=Dropout(0.2)(dense_1)\n",
    "#     drop_2=Dropout(0.2)(dense_2)\n",
    "#     output_1= Dense(1,activation=\"sigmoid\",name='sex_out')(drop_1)\n",
    "#     output_2= Dense(1,activation=\"relu\",name='age_out')(drop_2)\n",
    "])\n",
    "\n",
    "\n",
    "feature_extractor = keras.Model(\n",
    "    inputs=initial_model.inputs,\n",
    "#     outputs=[initial_model.get_layer(name=\"sex\").output, initial_model.get_layer(name=\"age\").output],\n",
    "    outputs=initial_model.get_layer(name=\"sex\").output\n",
    ")\n",
    "\n",
    "feature_extractor.compile(\n",
    "    optimizer='adam',\n",
    "    loss='binary_crossentropy',\n",
    "    #loss='mae',\n",
    "    metrics=['binary_accuracy'],\n",
    ")\n",
    "\n",
    "\n",
    "feature_extractor.fit(X_train, Y_train_2[0])\n",
    "\n",
    "predictions = feature_extractor.predict(X_test)\n",
    "\n",
    "print(predictions)\n",
    "print(Y_test_2[0])\n",
    "print(len(predictions))\n",
    "print(len(Y_test_2[0]))"
   ]
  },
  {
   "cell_type": "code",
   "execution_count": 8,
   "metadata": {},
   "outputs": [
    {
     "name": "stdout",
     "output_type": "stream",
     "text": [
      "Epoch 1/20\n",
      "235/235 [==============================] - 246s 1s/step - loss: 0.6768 - binary_accuracy: 0.5611 - val_loss: 0.6158 - val_binary_accuracy: 0.6760\n",
      "Epoch 2/20\n",
      "235/235 [==============================] - 244s 1s/step - loss: 0.6073 - binary_accuracy: 0.6660 - val_loss: 0.4906 - val_binary_accuracy: 0.7688\n",
      "Epoch 3/20\n",
      "235/235 [==============================] - 251s 1s/step - loss: 0.4850 - binary_accuracy: 0.7594 - val_loss: 0.4217 - val_binary_accuracy: 0.7756\n",
      "Epoch 4/20\n",
      "235/235 [==============================] - 241s 1s/step - loss: 0.4094 - binary_accuracy: 0.8130 - val_loss: 0.3442 - val_binary_accuracy: 0.8372\n",
      "Epoch 5/20\n",
      "235/235 [==============================] - 238s 1s/step - loss: 0.3678 - binary_accuracy: 0.8268 - val_loss: 0.3361 - val_binary_accuracy: 0.8388\n",
      "Epoch 6/20\n",
      "235/235 [==============================] - 242s 1s/step - loss: 0.3300 - binary_accuracy: 0.8406 - val_loss: 0.3058 - val_binary_accuracy: 0.8600\n",
      "Epoch 7/20\n",
      "235/235 [==============================] - 242s 1s/step - loss: 0.2853 - binary_accuracy: 0.8614 - val_loss: 0.3008 - val_binary_accuracy: 0.8600\n",
      "Epoch 8/20\n",
      "235/235 [==============================] - 241s 1s/step - loss: 0.2925 - binary_accuracy: 0.8602 - val_loss: 0.3158 - val_binary_accuracy: 0.8496\n",
      "Epoch 9/20\n",
      "235/235 [==============================] - 236s 1s/step - loss: 0.2775 - binary_accuracy: 0.8635 - val_loss: 0.3087 - val_binary_accuracy: 0.8516\n",
      "Epoch 10/20\n",
      "235/235 [==============================] - 240s 1s/step - loss: 0.2599 - binary_accuracy: 0.8683 - val_loss: 0.2876 - val_binary_accuracy: 0.8676\n",
      "Epoch 11/20\n",
      "235/235 [==============================] - 244s 1s/step - loss: 0.2572 - binary_accuracy: 0.8724 - val_loss: 0.2925 - val_binary_accuracy: 0.8652\n",
      "Epoch 12/20\n",
      "235/235 [==============================] - 253s 1s/step - loss: 0.2414 - binary_accuracy: 0.8767 - val_loss: 0.3029 - val_binary_accuracy: 0.8676\n",
      "Epoch 13/20\n",
      "235/235 [==============================] - 245s 1s/step - loss: 0.2353 - binary_accuracy: 0.8845 - val_loss: 0.2902 - val_binary_accuracy: 0.8632\n",
      "Epoch 14/20\n",
      "235/235 [==============================] - 244s 1s/step - loss: 0.2151 - binary_accuracy: 0.8874 - val_loss: 0.3209 - val_binary_accuracy: 0.8688\n",
      "Epoch 15/20\n",
      "235/235 [==============================] - 263s 1s/step - loss: 0.2136 - binary_accuracy: 0.8982 - val_loss: 0.3053 - val_binary_accuracy: 0.8732\n",
      "Epoch 16/20\n",
      "235/235 [==============================] - 244s 1s/step - loss: 0.2023 - binary_accuracy: 0.9015 - val_loss: 0.3071 - val_binary_accuracy: 0.8752\n",
      "Epoch 17/20\n",
      "235/235 [==============================] - 247s 1s/step - loss: 0.1778 - binary_accuracy: 0.9102 - val_loss: 0.3385 - val_binary_accuracy: 0.8684\n",
      "Epoch 18/20\n",
      "235/235 [==============================] - 265s 1s/step - loss: 0.1781 - binary_accuracy: 0.9074 - val_loss: 0.3061 - val_binary_accuracy: 0.8788\n",
      "Epoch 19/20\n",
      "235/235 [==============================] - 245s 1s/step - loss: 0.1659 - binary_accuracy: 0.9121 - val_loss: 0.3114 - val_binary_accuracy: 0.8740\n",
      "Epoch 20/20\n",
      "235/235 [==============================] - 241s 1s/step - loss: 0.1806 - binary_accuracy: 0.9015 - val_loss: 0.3741 - val_binary_accuracy: 0.8732\n"
     ]
    },
    {
     "data": {
      "image/png": "[encoded data removed]",
      "text/plain": [
       "<Figure size 432x288 with 1 Axes>"
      ]
     },
     "metadata": {
      "needs_background": "light"
     },
     "output_type": "display_data"
    },
    {
     "data": {
      "image/png": "[encoded data removed]",
      "text/plain": [
       "<Figure size 432x288 with 1 Axes>"
      ]
     },
     "metadata": {
      "needs_background": "light"
     },
     "output_type": "display_data"
    }
   ],
   "source": [
    "import tensorflow as tf\n",
    "from tensorflow import keras\n",
    "from tensorflow.keras import layers\n",
    "\n",
    "model = keras.Sequential([\n",
    "    # Block One\n",
    "    layers.Conv2D(filters=32, kernel_size=3, activation='relu', padding='same',\n",
    "                  input_shape=[128, 128, 3]),\n",
    "    layers.MaxPool2D(),\n",
    "\n",
    "    # Block Two\n",
    "    layers.Conv2D(filters=64, kernel_size=3, activation='relu', padding='same'),\n",
    "    layers.MaxPool2D(),\n",
    "\n",
    "    # Block Three\n",
    "    # YOUR CODE HERE\n",
    "    layers.Conv2D(filters = 128, kernel_size = 3, activation = 'relu', padding = 'same'),\n",
    "    layers.Conv2D(filters = 128, kernel_size = 3, activation = 'relu', padding = 'same'),\n",
    "    layers.MaxPool2D(),\n",
    "\n",
    "    # Head\n",
    "    layers.Flatten(),\n",
    "    layers.Dense(6, activation='relu'),\n",
    "    layers.Dropout(0.2),\n",
    "    layers.Dense(1, activation='sigmoid'),\n",
    "])\n",
    "\n",
    "model.compile(\n",
    "    optimizer=tf.keras.optimizers.Adam(epsilon=0.01),\n",
    "    # YOUR CODE HERE: Add loss and metric\n",
    "    loss = 'binary_crossentropy',\n",
    "    metrics = ['binary_accuracy']\n",
    ")\n",
    "\n",
    "# model.fit(\n",
    "#     X_train,\n",
    "#     Y_train_2[0],\n",
    "#     epochs=50,\n",
    "# )\n",
    "\n",
    "# predictions = model.predict(X_test)\n",
    "\n",
    "# print(predictions)\n",
    "# print(Y_test_2[0])\n",
    "# print(len(predictions))\n",
    "# print(len(Y_test_2[0]))\n",
    "\n",
    "history = model.fit(\n",
    "    X_train,\n",
    "    Y_train_2[0],\n",
    "    batch_size = 32,\n",
    "    validation_data = (X_test, Y_test_2[0]),\n",
    "    epochs=20,\n",
    ")\n",
    "\n",
    "import pandas as pd\n",
    "history_frame = pd.DataFrame(history.history)\n",
    "history_frame.loc[:, ['loss', 'val_loss']].plot()\n",
    "history_frame.loc[:, ['binary_accuracy', 'val_binary_accuracy']].plot();\n"
   ]
  },
  {
   "cell_type": "code",
   "execution_count": 23,
   "metadata": {},
   "outputs": [
    {
     "name": "stdout",
     "output_type": "stream",
     "text": [
      "58_0_2_20170116193712612.jpg.chip.jpg\n",
      "[[3.6457404e-16]]\n",
      "Predicted Sex: Male\n"
     ]
    }
   ],
   "source": [
    "\n",
    "print(files[3333])\n",
    "#print(images_f[11])\n",
    "#cv_imshow(images_f[11])\n",
    "image_test=images_f_2[3333]\n",
    "pred_1=model.predict(np.array([image_test]))\n",
    "print(pred_1)\n",
    "sex_f=['Male','Female']\n",
    "#age=int(np.round(pred_1[1][0]))\n",
    "sex=int(np.round(pred_1[0]))\n",
    "# print(\"Predicted Age: \"+ str(age))\n",
    "print(\"Predicted Sex: \"+ sex_f[sex])\n"
   ]
  },
  {
   "cell_type": "code",
   "execution_count": null,
   "metadata": {},
   "outputs": [],
   "source": []
  }
 ],
 "metadata": {
  "kernelspec": {
   "display_name": "Python 3",
   "language": "python",
   "name": "python3"
  },
  "language_info": {
   "codemirror_mode": {
    "name": "ipython",
    "version": 3
   },
   "file_extension": ".py",
   "mimetype": "text/x-python",
   "name": "python",
   "nbconvert_exporter": "python",
   "pygments_lexer": "ipython3",
   "version": "3.8.5"
  }
 },
 "nbformat": 4,
 "nbformat_minor": 4
}
